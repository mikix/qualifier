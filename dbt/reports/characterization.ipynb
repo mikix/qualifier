{
 "cells": [
  {
   "cell_type": "raw",
   "id": "d906eb88-7739-4eb2-8a74-ae160803712f",
   "metadata": {},
   "source": [
    "---\n",
    "title: \"Qualifier Characterization Metrics\"\n",
    "jupyter: python3\n",
    "execute:\n",
    "    echo: false\n",
    "    warning: false\n",
    "    eval: true\n",
    "---"
   ]
  },
  {
   "cell_type": "code",
   "execution_count": null,
   "id": "46723ebb-4c9f-4592-9e0c-20b156516dd1",
   "metadata": {},
   "outputs": [],
   "source": [
    "#| output: false\n",
    "%pip install sqlalchemy\n",
    "# be sure to adjust this if the duckdb version in the dbt driver is differs\n",
    "%pip install duckdb==0.5.1\n",
    "%pip install duckdb-engine\n",
    "%pip install psycopg2\n",
    "%pip install python-dotenv\n",
    "\n",
    "import matplotlib.pylab as plt\n",
    "plt.rcParams['figure.dpi'] = 100\n",
    "\n",
    "from IPython.display import display, Markdown, HTML\n",
    "from datetime import datetime, timezone\n",
    "import pandas as pd\n",
    "from dotenv import load_dotenv\n",
    "import os\n",
    "from pathlib import Path "
   ]
  },
  {
   "cell_type": "code",
   "execution_count": null,
   "id": "e9df1347-aa04-435f-97d7-793ccb072570",
   "metadata": {},
   "outputs": [],
   "source": [
    "#| tags: [parameters]\n",
    "\n",
    "load_dotenv(override=True)\n",
    "connection_string = os.environ.get('DB_CONNECTION_STRING')\n",
    "connection_string"
   ]
  },
  {
   "cell_type": "code",
   "execution_count": null,
   "id": "6415f048-a2b3-4d3b-ba48-73a428bdc967",
   "metadata": {},
   "outputs": [],
   "source": [
    "from sqlalchemy import create_engine\n",
    "con = create_engine(connection_string)"
   ]
  },
  {
   "cell_type": "code",
   "execution_count": null,
   "id": "fa4033df-e5a9-40ee-8a38-86f45c710202",
   "metadata": {},
   "outputs": [],
   "source": [
    "metric_time = con.execute(\"SELECT MAX(run_started_at) FROM quality_metrics\").fetchall()\n",
    "as_of_time = metric_time[0][0]\n",
    "\n",
    "if as_of_time:\n",
    "    utc_dt = datetime.fromisoformat(as_of_time)\n",
    "    utc_dt = utc_dt.replace(tzinfo=timezone.utc).astimezone(tz=None)\n",
    "    display(Markdown(\"## Run at \" + utc_dt.strftime(\"%b %d, %Y at %-I:%M:%S %p\")))\n",
    "else:\n",
    "    display(Markdown(\"## No quality metrics found\"))   "
   ]
  },
  {
   "attachments": {},
   "cell_type": "markdown",
   "id": "3a733eba-4333-4ca2-b368-b6b3c7458fc2",
   "metadata": {},
   "source": [
    "## c_pt_count"
   ]
  },
  {
   "cell_type": "code",
   "execution_count": null,
   "id": "65395cef-148b-45a0-afd0-f383524a79e9",
   "metadata": {},
   "outputs": [],
   "source": [
    "#| output: false\n",
    "# check if table exists\n",
    "c_pt_count_exists = False\n",
    "try:\n",
    "\tcon.execute(f\"\"\"SELECT * FROM c_pt_count LIMIT 1\"\"\")\n",
    "\tc_pt_count_exists = True\n",
    "except:\n",
    "    c_pt_count_exists = False\n",
    "\n",
    "c_pt_count_exists"
   ]
  },
  {
   "cell_type": "markdown",
   "id": "58529ec1-2850-448b-8c2b-88a58c1796df",
   "metadata": {},
   "source": [
    "#### Patient Count by Birth Decade and Sex"
   ]
  },
  {
   "cell_type": "code",
   "execution_count": null,
   "id": "1c57aa85-1fb4-42e1-8fde-933098760a29",
   "metadata": {},
   "outputs": [],
   "source": [
    "sql = f\"\"\"\n",
    "    SELECT \n",
    "       (FLOOR(birth_year/10)*10)::INTEGER AS birth_decade,\n",
    "       sex,\n",
    "       SUM(cnt) AS cnt\n",
    "    FROM c_pt_count\n",
    "    GROUP BY 1,2\n",
    "    ORDER BY birth_decade DESC, sex DESC\n",
    "\"\"\"\n",
    "\n",
    "if c_pt_count_exists:\n",
    "    patients = pd.read_sql(sql, con)\n",
    "    pivot = patients.pivot(columns=[\"sex\"], index=\"birth_decade\", values=\"cnt\")\n",
    "    pivot.plot.bar(xlabel=\"birth decade\", ylabel=\"count\")\n",
    "else:\n",
    "    display(Markdown(\"### No data found\"))   "
   ]
  },
  {
   "cell_type": "markdown",
   "id": "6ea88ea5-9d9f-435f-805b-e05e5585ebd7",
   "metadata": {},
   "source": [
    "#### Patient Count by Race and Ethnicity Codes"
   ]
  },
  {
   "cell_type": "code",
   "execution_count": null,
   "id": "27c1f839-b7cb-4226-b709-c877dfc7a54d",
   "metadata": {},
   "outputs": [],
   "source": [
    "ethnicity_codes = {\n",
    "    \"2135-2\":\"Hisp or Lat\",\n",
    "    \"2186-5\":\"Not Hisp or Lat\",\n",
    "    \"nan\": \"Missing\"\n",
    "}\n",
    "\n",
    "race_codes = {\n",
    "    \"1002-5\": \"Am Indian or Alaska Nat\",\n",
    "    \"2028-9\": \"Asian\",\n",
    "    \"2054-5\": \"Black or African Am\",\n",
    "    \"2076-8\": \"Nat Hawaiian or Other Pac Isl\",\n",
    "    \"2106-3\": \"White\",\n",
    "    \"2131-1\": \"Other\",\n",
    "    \"nan\": \"Missing\"\n",
    "}\n",
    "\n",
    "sql = f\"\"\"\n",
    "    SELECT \n",
    "       omb_race_code,\n",
    "       CASE \n",
    "           WHEN omb_ethnicity_code = '2135-2'\n",
    "               THEN '{ethnicity_codes[\"2135-2\"]}'\n",
    "            WHEN omb_ethnicity_code = '2186-5'\n",
    "               THEN '{ethnicity_codes[\"2186-5\"]}'\n",
    "            WHEN omb_ethnicity_code IS NULL\n",
    "                THEN '{ethnicity_codes[\"nan\"]}'\n",
    "            ELSE omb_ethnicity_code\n",
    "        END AS omb_ethnicity_code,\n",
    "       SUM(cnt) AS cnt\n",
    "    FROM c_pt_count\n",
    "    GROUP BY 1,2\n",
    "\"\"\"\n",
    "\n",
    "if c_pt_count_exists:\n",
    "    patients = pd.read_sql(sql, con)\n",
    "    pivot = patients.pivot(columns=[\"omb_race_code\"], index=\"omb_ethnicity_code\", values=\"cnt\")\n",
    "    plot = pivot.plot.bar(xlabel=\"\", ylabel=\"count\", rot=0)\n",
    "    for text in plot.legend().get_texts():\n",
    "        new_text = text.get_text()\n",
    "        for k,v in race_codes.items():\n",
    "            new_text = new_text.replace(k, v)\n",
    "        text.set_text(new_text)\n",
    "else:\n",
    "    display(Markdown(\"### No data found\"))   "
   ]
  },
  {
   "attachments": {},
   "cell_type": "markdown",
   "id": "5ec63a12-e206-4805-88e8-50f90fd409ad",
   "metadata": {},
   "source": [
    "## c_pt_deceased_count"
   ]
  },
  {
   "cell_type": "code",
   "execution_count": null,
   "id": "5f5bcd6e",
   "metadata": {},
   "outputs": [],
   "source": [
    "#| output: false\n",
    "# check if table exists\n",
    "c_pt_count_exists = False\n",
    "try:\n",
    "    con.execute(f\"\"\"SELECT * FROM c_pt_deceased_count LIMIT 1\"\"\")\n",
    "    c_pt_deceased_count_exists = True\n",
    "except:\n",
    "    c_pt_deceased_count_exists = False\n",
    "\n",
    "c_pt_deceased_count_exists"
   ]
  },
  {
   "cell_type": "markdown",
   "id": "704582dd",
   "metadata": {},
   "source": [
    "### Deceased Patients by Death Decade"
   ]
  },
  {
   "cell_type": "code",
   "execution_count": null,
   "id": "920bb864-6e83-46ea-85c1-8deefc13a7ee",
   "metadata": {},
   "outputs": [],
   "source": [
    "sql = f\"\"\"\n",
    "SELECT\n",
    "    (FLOOR(death_year/10)*10)::INTEGER AS death_decade,\n",
    "    SUM(cnt) AS cnt\n",
    "FROM c_pt_deceased_count\n",
    "GROUP BY 1\n",
    "ORDER BY 1\n",
    "\"\"\"\n",
    "\n",
    "if c_pt_deceased_count_exists:\n",
    "    patients = pd.read_sql(sql, con)\n",
    "    plot = patients.plot.bar(x=\"death_decade\", y=\"cnt\", xlabel=\"death decade\", ylabel=\"count\")\n",
    "    plot.get_legend().remove()\n",
    "else:\n",
    "    display(Markdown(\"### No data found\"))   "
   ]
  },
  {
   "cell_type": "code",
   "execution_count": null,
   "id": "741c6b32",
   "metadata": {},
   "outputs": [],
   "source": [
    "#| output: false\n",
    "# close the database\n",
    "con.dispose()"
   ]
  }
 ],
 "metadata": {
  "kernelspec": {
   "display_name": "Python 3",
   "language": "python",
   "name": "python3"
  },
  "language_info": {
   "codemirror_mode": {
    "name": "ipython",
    "version": 3
   },
   "file_extension": ".py",
   "mimetype": "text/x-python",
   "name": "python",
   "nbconvert_exporter": "python",
   "pygments_lexer": "ipython3",
   "version": "3.8.13"
  },
  "vscode": {
   "interpreter": {
    "hash": "8cc24feb2bc644aa7a4bee05b98787ee7c852ae4b5e6aed3858f74310048c407"
   }
  }
 },
 "nbformat": 4,
 "nbformat_minor": 5
}
